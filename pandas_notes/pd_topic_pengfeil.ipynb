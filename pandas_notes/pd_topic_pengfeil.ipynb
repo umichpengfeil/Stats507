{
 "cells": [
  {
   "cell_type": "code",
   "execution_count": null,
   "id": "912da116",
   "metadata": {},
   "outputs": [],
   "source": [
    "import numpy as np\n",
    "import pandas as pd\n",
    "import scipy.stats as st\n",
    "import matplotlib.cm as cm\n",
    "import matplotlib.pyplot as plt\n",
    "from math import sqrt\n",
    "from os.path import exists"
   ]
  },
  {
   "cell_type": "markdown",
   "id": "66f22f85",
   "metadata": {},
   "source": [
    "name:Pengfei Liu umID:61896838\n",
    "# Question 0\n"
   ]
  },
  {
   "cell_type": "markdown",
   "id": "fe576063",
   "metadata": {},
   "source": [
    "## Dropping\n",
    "- Delete (some parts of) data samples under certain conditions using `pd.drop()`.\n",
    "- Use `axis` to choose to drop from the index(`0` or `index`) or columns(`1` or `columns`).\n",
    "- General usage: `df.drop(df[<some boolean condition>].index)`"
   ]
  },
  {
   "cell_type": "code",
   "execution_count": null,
   "id": "da74aac0",
   "metadata": {},
   "outputs": [],
   "source": [
    "df1 = pd.DataFrame(np.arange(24).reshape(6, 4), columns=['A', 'B', 'C', 'D'])\n",
    "print(df1)\n",
    "#drop columns\n",
    "print(df1.drop(['B','C'], axis = 1))\n",
    "#drop the items that is less than 6 in column A.\n",
    "print(df1.drop(df1[df1['A'] < 6].index))"
   ]
  },
  {
   "cell_type": "markdown",
   "id": "54ff19e6",
   "metadata": {},
   "source": [
    "- In the previous test, we showed the importance of `labels`, which was `df1[df1['A'] < 6].index` there.\n",
    "- we can also use the parameter `level` to make multiple indexing.\n"
   ]
  },
  {
   "cell_type": "code",
   "execution_count": null,
   "id": "552ba550",
   "metadata": {},
   "outputs": [],
   "source": [
    "midx = pd.MultiIndex(levels=[['lama', 'cow', 'falcon'],\n",
    "                             ['speed', 'weight', 'length']],\n",
    "                     codes=[[0, 0, 0, 1, 1, 1, 2, 2, 2],\n",
    "                            [0, 1, 2, 0, 1, 2, 0, 1, 2]])\n",
    "df = pd.DataFrame(index=midx, columns=['big', 'small'],\n",
    "                  data=[[45, 30], [200, 100], [1.5, 1], [30, 20],\n",
    "                        [250, 150], [1.5, 0.8], [320, 250],\n",
    "                        [1, 0.8], [0.3, 0.2]])\n",
    "print(df)\n",
    "print(df.drop(index = 'cow', columns = 'small'))"
   ]
  },
  {
   "cell_type": "markdown",
   "id": "703f6257",
   "metadata": {
    "lines_to_next_cell": 2
   },
   "source": [
    "- We also have other relative functions such as `pd.dropna()` and `pd.drop_duplicates()`."
   ]
  }
 ],
 "metadata": {
  "jupytext": {
   "formats": "ipynb,py:light"
  },
  "kernelspec": {
   "display_name": "Python 3 (ipykernel)",
   "language": "python",
   "name": "python3"
  },
  "language_info": {
   "codemirror_mode": {
    "name": "ipython",
    "version": 3
   },
   "file_extension": ".py",
   "mimetype": "text/x-python",
   "name": "python",
   "nbconvert_exporter": "python",
   "pygments_lexer": "ipython3",
   "version": "3.8.11"
  }
 },
 "nbformat": 4,
 "nbformat_minor": 5
}

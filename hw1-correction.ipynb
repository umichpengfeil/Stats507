{
 "cells": [
  {
   "cell_type": "markdown",
   "id": "e42035a0",
   "metadata": {},
   "source": [
    "My original code is shown as below.\n",
    "# Question O\n",
    "\n",
    "(Remark:three requests not satisfied. I didn't change the color, typeface, and I cannot make a header\"a.\"using Markdown.)\n",
    "\n",
    "This is _question o_ for [problem set1](https://jbhender.github.io/Stats507/F21/ps/ps1.html) of [Stats 507](https://jbhender.github.io/Stats507/F21/).\n",
    "\n",
    "> Question o is about Markdown.\n",
    "\n",
    "The next question is about __Fibonnaci sequence__,$F_n = F_{n-1} + F_{n-2}$. In part __a__ we will define a Python function `fib_rec()`.\n",
    "\n",
    "Below is a...\n",
    "\n",
    "### Level 3 Header\n",
    "Next,we can make a bulleted list:\n",
    "   - Item 1\n",
    "     - detail 1\n",
    "     - detail 2\n",
    "   - Item 2\n",
    "\n",
    "Finally, we can make an enumerated list:\n",
    "1. Item 1   \n",
    "2. Item 2\n",
    "3. Item 3"
   ]
  },
  {
   "cell_type": "markdown",
   "id": "72777254",
   "metadata": {},
   "source": [
    "# We need to make corrections for raw and formatted versions."
   ]
  },
  {
   "cell_type": "markdown",
   "id": "be2f943f",
   "metadata": {},
   "source": [
    "# Question 0\n",
    "\n",
    "---\n",
    "This is _question o_ for [problem set1][1] of [Stats 507][2].\n",
    "\n",
    "> Question o is about Markdown.\n",
    "\n",
    "The next question is about __Fibonnaci sequence__,$F_n = F_{n-1} + F_{n-2}$. In part __a__ we will define a Python function `fib_rec()`.\n",
    "\n",
    "Below is a...\n",
    "\n",
    "### Level 3 Header\n",
    "Next,we can make a bulleted list:\n",
    "   - Item 1\n",
    "     - detail 1\n",
    "     - detail 2\n",
    "   - Item 2\n",
    "\n",
    "Finally, we can make an enumerated list:\n",
    "\n",
    " a. Item 1   \n",
    " b. Item 2   \n",
    " c. Item 3\n",
    "\n",
    "---\n",
    "[1]:https://jbhender.github.io/Stats507/F21/ps/ps1.html\n",
    "[2]:https://jbhender.github.io/Stats507/F21/"
   ]
  }
 ],
 "metadata": {
  "kernelspec": {
   "display_name": "Python 3 (ipykernel)",
   "language": "python",
   "name": "python3"
  },
  "language_info": {
   "codemirror_mode": {
    "name": "ipython",
    "version": 3
   },
   "file_extension": ".py",
   "mimetype": "text/x-python",
   "name": "python",
   "nbconvert_exporter": "python",
   "pygments_lexer": "ipython3",
   "version": "3.8.11"
  }
 },
 "nbformat": 4,
 "nbformat_minor": 5
}
